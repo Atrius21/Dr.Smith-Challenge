{
 "cells": [
  {
   "cell_type": "markdown",
   "metadata": {},
   "source": [
    "## File Generator \n",
    "(Notebook is running on Python 3.5.2)"
   ]
  },
  {
   "cell_type": "code",
   "execution_count": 1,
   "metadata": {
    "collapsed": true
   },
   "outputs": [],
   "source": [
    "import random\n",
    "import string\n",
    "import os"
   ]
  },
  {
   "cell_type": "markdown",
   "metadata": {},
   "source": [
    "## Random text generator\n",
    "- Text length is set to a minimum of 5 and a maximum of 10\n",
    "- all 4 types of text are RANDOMLY generated with the function all_randoms()"
   ]
  },
  {
   "cell_type": "code",
   "execution_count": 2,
   "metadata": {
    "collapsed": false
   },
   "outputs": [],
   "source": [
    "def all_randoms():\n",
    "    max_length = 10\n",
    "    #alphabetical string\n",
    "    alphabet = ''.join(random.choice(string.ascii_lowercase) \n",
    "                       for i in range(random.choice(range(5,max_length))))\n",
    "    \n",
    "    #digit string\n",
    "    digit = ''.join(random.choice(string.digits) \n",
    "                    for i in range(random.choice(range(5,max_length))))\n",
    "    \n",
    "    #real number string\n",
    "    real_number = random.uniform(1,999999)\n",
    "    \n",
    "    #alphanumeric string\n",
    "    alpha_num = ''.join(random.choice(string.ascii_lowercase + string.digits) \n",
    "                        for i in range(random.choice(range(5,max_length))))\n",
    "    \n",
    "    i =  random.choice(range(0,9))\n",
    "    alpha_out = ' '*i + alpha_num + ' '*i\n",
    "    \n",
    "    #random choice of the four\n",
    "    f_list = [alphabet,digit,real_number,alpha_out]\n",
    "    \n",
    "    return random.choice(f_list)\n"
   ]
  },
  {
   "cell_type": "markdown",
   "metadata": {},
   "source": [
    "- Write to file with the condition of less than 10MB and each object separated by ','"
   ]
  },
  {
   "cell_type": "code",
   "execution_count": 7,
   "metadata": {
    "collapsed": false
   },
   "outputs": [],
   "source": [
    "filename = 'program.txt'\n",
    "with open(filename, 'a') as file_object:\n",
    "    \n",
    "    while os.stat(filename).st_size < 10485760:\n",
    "        file_object.write(str(all_randoms()) + ',')\n",
    "        "
   ]
  }
 ],
 "metadata": {
  "anaconda-cloud": {},
  "kernelspec": {
   "display_name": "Python [default]",
   "language": "python",
   "name": "python3"
  },
  "language_info": {
   "codemirror_mode": {
    "name": "ipython",
    "version": 3
   },
   "file_extension": ".py",
   "mimetype": "text/x-python",
   "name": "python",
   "nbconvert_exporter": "python",
   "pygments_lexer": "ipython3",
   "version": "3.5.2"
  }
 },
 "nbformat": 4,
 "nbformat_minor": 1
}
