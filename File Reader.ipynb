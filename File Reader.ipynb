{
 "cells": [
  {
   "cell_type": "markdown",
   "metadata": {},
   "source": [
    "## File Reader \n",
    "(Notebook is running on Python 3.5.2)\n",
    "- the strings are stripped when appending to a list doc\n",
    "- using PandaFrames to handle and organize the data"
   ]
  },
  {
   "cell_type": "code",
   "execution_count": 1,
   "metadata": {
    "collapsed": true
   },
   "outputs": [],
   "source": [
    "import pandas as pd\n",
    "import numpy as np\n",
    "doc = []\n",
    "with open('program.txt') as file:\n",
    "    for line in file:\n",
    "        for x in line.split(','):\n",
    "            doc.append(x.strip())\n",
    "            \n",
    "    \n",
    "df = pd.DataFrame(doc, columns=['text'])\n",
    "df.drop(df.index[-1],inplace=True)"
   ]
  },
  {
   "cell_type": "markdown",
   "metadata": {},
   "source": [
    "- the file reader function checks for 4 types of data \n",
    "- the data type is then printed on the dataframe 'data_type'"
   ]
  },
  {
   "cell_type": "code",
   "execution_count": 2,
   "metadata": {
    "collapsed": false
   },
   "outputs": [],
   "source": [
    "def checker(item):\n",
    "    if item.isalpha():\n",
    "        return 'alphabetical string'\n",
    "    elif item.isdigit():\n",
    "        return 'integer'\n",
    "    elif item.isalnum():\n",
    "        return 'alphanumeric'\n",
    "    elif item:\n",
    "        try:\n",
    "            float(item)\n",
    "            return 'real number'\n",
    "        except ValueError:\n",
    "            pass\n",
    "    return np.nan\n",
    "\n",
    "df['data_type'] = [checker(str(data)) for data in df.text]\n",
    "    "
   ]
  },
  {
   "cell_type": "code",
   "execution_count": 3,
   "metadata": {
    "collapsed": false
   },
   "outputs": [
    {
     "data": {
      "text/html": [
       "<div>\n",
       "<table border=\"1\" class=\"dataframe\">\n",
       "  <thead>\n",
       "    <tr style=\"text-align: right;\">\n",
       "      <th></th>\n",
       "      <th>text</th>\n",
       "      <th>data_type</th>\n",
       "    </tr>\n",
       "  </thead>\n",
       "  <tbody>\n",
       "    <tr>\n",
       "      <th>0</th>\n",
       "      <td>fbbrm</td>\n",
       "      <td>alphabetical string</td>\n",
       "    </tr>\n",
       "    <tr>\n",
       "      <th>1</th>\n",
       "      <td>ubnveg</td>\n",
       "      <td>alphabetical string</td>\n",
       "    </tr>\n",
       "    <tr>\n",
       "      <th>2</th>\n",
       "      <td>547882637</td>\n",
       "      <td>integer</td>\n",
       "    </tr>\n",
       "    <tr>\n",
       "      <th>3</th>\n",
       "      <td>rarlzx</td>\n",
       "      <td>alphabetical string</td>\n",
       "    </tr>\n",
       "    <tr>\n",
       "      <th>4</th>\n",
       "      <td>f6lgxr</td>\n",
       "      <td>alphanumeric</td>\n",
       "    </tr>\n",
       "  </tbody>\n",
       "</table>\n",
       "</div>"
      ],
      "text/plain": [
       "        text            data_type\n",
       "0      fbbrm  alphabetical string\n",
       "1     ubnveg  alphabetical string\n",
       "2  547882637              integer\n",
       "3     rarlzx  alphabetical string\n",
       "4     f6lgxr         alphanumeric"
      ]
     },
     "execution_count": 3,
     "metadata": {},
     "output_type": "execute_result"
    }
   ],
   "source": [
    "df.head()"
   ]
  }
 ],
 "metadata": {
  "anaconda-cloud": {},
  "kernelspec": {
   "display_name": "Python [conda root]",
   "language": "python",
   "name": "conda-root-py"
  },
  "language_info": {
   "codemirror_mode": {
    "name": "ipython",
    "version": 3
   },
   "file_extension": ".py",
   "mimetype": "text/x-python",
   "name": "python",
   "nbconvert_exporter": "python",
   "pygments_lexer": "ipython3",
   "version": "3.5.2"
  }
 },
 "nbformat": 4,
 "nbformat_minor": 1
}
